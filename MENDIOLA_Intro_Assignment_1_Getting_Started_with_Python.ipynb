{
 "cells": [
  {
   "cell_type": "markdown",
   "metadata": {
    "colab_type": "text",
    "id": "51dZwqDNc9x6"
   },
   "source": [
    "# Data Science - Getting Started with Python\n",
    "\n",
    "Following are exercises you should complete. Workflow:\n",
    "\n",
    "1. Complete the exercises! This means fill out the code cells, and run them (shift-enter or click the play button that appears when you're in one of them)\n",
    "2. Take a look at your work, and write comments/add text cells as appropriate to explain\n",
    "3. Upload the notebook to your GitHub repository and submit a link [here](https://docs.google.com/forms/d/e/1FAIpQLScdlw-GN3tHPHxROIulxoPmxXmvK-UmXco3lgjiJ0Ckltn6QA/viewform?usp=sf_link)"
   ]
  },
  {
   "cell_type": "markdown",
   "metadata": {
    "colab_type": "text",
    "id": "I6biutgwdgpb"
   },
   "source": [
    "## Exercise 1 - A bit of Math\n",
    "\n",
    "For these \"word\" problems, use Python to clearly solve them. Your code will \"show your work\" - use good variable names! To show your answers you should write a `print()` statement at the end.\n",
    "\n",
    "### a) It's a gas\n",
    "\n",
    "A taxi driver is calculating their profit over two weeks by adding up the fares they charge and subtracting the cost of gas. The price of gas changes over time - it was `$3.52`/gallon the first week and `$3.57`/gallon this second week. Their car gets 20 miles per gallon.\n",
    "\n",
    "For the first week the driver had a total of 23 passengers with average `$29` fare each, and drove a total of 160 miles. For the second week they had 17 passengers with average `$30` fare each, and drove a total of 220 miles. Assume that for both weeks they purchase all the gas needed during that week (i.e. they refuel every week to maintain a constant level of gas in the tank).\n",
    "\n",
    "Based on the above, answer the following questions:\n",
    "\n",
    "- What is their total profit over both weeks?\n",
    "- During which week was their average (mean) profit per passenger higher?\n"
   ]
  },
  {
   "cell_type": "code",
   "execution_count": 35,
   "metadata": {
    "colab": {},
    "colab_type": "code",
    "id": "CWJeYQW6AoGf"
   },
   "outputs": [
    {
     "name": "stdout",
     "output_type": "stream",
     "text": [
      "Profit for week 1: 638.840000\n",
      "Profit for week 2: 481.440000\n",
      "Total profit: 1120.280000\n",
      "Average profit per passenger week 1: 0.036003\n",
      "Average profit per passenger week 2: 0.035311\n",
      "Week 1 has a higher mean profit per passenger.\n"
     ]
    }
   ],
   "source": [
    "# your code here\n",
    "from math import *\n",
    "\n",
    "# calculates the profit\n",
    "def profitcalc(passenger, fare, distance, gasprice):\n",
    "    return (fare*passenger)-((distance/20)*gasprice)\n",
    "\n",
    "# calculates the mean profit per passenger\n",
    "def aveprofit(passenger, profit):\n",
    "    return profit/passenger\n",
    "\n",
    "# returns which week has a higher mean profit per passenger\n",
    "def compare_profit(aprofit1, aprofit2):\n",
    "    if aprofit1 > aprofit2:\n",
    "        print ('Week 1 has a higher mean profit per passenger.')\n",
    "    else:\n",
    "        print ('Week 2 has a higher mean profit per passenger.')\n",
    "\n",
    "profit_wk1 = profitcalc(23,29,160,3.52)\n",
    "print('Profit for week 1: %f' % profit_wk1)\n",
    "profit_wk2 = profitcalc(17,30,160,3.57)\n",
    "print('Profit for week 2: %f' %profit_wk2)\n",
    "print('Total profit: %f' % (profit_wk1 + profit_wk2))\n",
    "aprofit_wk1 = aveprofit(profit_wk1, 23)\n",
    "aprofit_wk2 = aveprofit(profit_wk2, 17)\n",
    "print('Average profit per passenger week 1: %f' % aprofit_wk1)\n",
    "print('Average profit per passenger week 2: %f' % aprofit_wk2)\n",
    "compare_profit(aprofit_wk1, aprofit_wk2)"
   ]
  },
  {
   "cell_type": "markdown",
   "metadata": {
    "colab_type": "text",
    "id": "0l4bUPHmR5Ko"
   },
   "source": [
    "### b) Mo' money...\n",
    "\n",
    "A cash drawer contains 160 bills, all 10s and 50s. The total value of the 10s and 50s is $1,760.\n",
    "\n",
    "How many of each type of bill are in the drawer? You can figure this out by trial and error (or by doing algebra with pencil and paper), but try to use loops and conditionals to check a plausible possibilities and stop when you find the correct one."
   ]
  },
  {
   "cell_type": "code",
   "execution_count": 19,
   "metadata": {
    "colab": {},
    "colab_type": "code",
    "id": "Q2Atz_kyR8_6"
   },
   "outputs": [
    {
     "name": "stdout",
     "output_type": "stream",
     "text": [
      "(156, 4)\n"
     ]
    }
   ],
   "source": [
    "# solved using algebra: (let x be no. of 10s bill, y be no. of 50s bill) x + y = 160; 10x + 50y = 1760 / y=4, x=156\n",
    "# assumption: type of bill is constant, only 2 types of bills\n",
    "\n",
    "def total_per_bill(bills, amount):\n",
    "    x = 0\n",
    "    y = 0\n",
    "    # should satisfy this condition: x + y = bills; 10x + 50y = amount\n",
    "    # (10 * bills) - (10 * y) + 50 * y == 1760\n",
    "    while (10 * bills) - (10 * y) + 50 * y != 1760:\n",
    "        y = y + 1\n",
    "    x = 160 - y\n",
    "    return x, y\n",
    "\n",
    "print(total_per_bill(160, 1760))"
   ]
  },
  {
   "cell_type": "markdown",
   "metadata": {
    "colab_type": "text",
    "id": "UCFtX_q9aQlc"
   },
   "source": [
    "## Exercise 2 - Drawing a plot\n",
    "\n",
    "Use NumPy and Matplotlib to draw a scatterplot of uniform random `(x, y)` values all drawn from the `[0, 1]` interval. Helpful documentation:\n",
    "\n",
    "*   https://matplotlib.org/tutorials/index.html\n",
    "*   https://docs.scipy.org/doc/numpy/user/quickstart.html\n",
    "\n",
    "Stretch goal - draw more plots! You can refer to the [Matplotlib gallery](https://matplotlib.org/gallery.html) for inspiration, but don't just reproduce something - try to apply it to your own data.\n",
    "\n",
    "How to get data? There's *many* ways, but a good place to get started is with [sklearn.datasets](http://scikit-learn.org/stable/datasets/index.html):\n",
    "\n",
    "```\n",
    "from sklearn import datasets\n",
    "dir(datasets)\n",
    "```"
   ]
  },
  {
   "cell_type": "code",
   "execution_count": 23,
   "metadata": {
    "colab": {},
    "colab_type": "code",
    "id": "pNEb09gMaltL"
   },
   "outputs": [
    {
     "data": {
      "image/png": "[encoded data removed]",
      "text/plain": [
       "<Figure size 432x288 with 1 Axes>"
      ]
     },
     "metadata": {
      "needs_background": "light"
     },
     "output_type": "display_data"
    }
   ],
   "source": [
    "import matplotlib.pyplot as plt\n",
    "import numpy as np\n",
    "\n",
    "# generating data from random numbers here\n",
    "R = 100\n",
    "x = np.random.rand(R)\n",
    "y = np.random.rand(R)\n",
    "colors = (0,0,0)\n",
    "area = np.pi*3\n",
    "\n",
    "# visualizing the scatter plot\n",
    "plt.scatter(x, y, s=area, alpha=0.5)\n",
    "plt.title('Exercise 2: Scatter plot of randomly generated numbers')\n",
    "plt.xlabel('x')\n",
    "plt.ylabel('y')\n",
    "plt.show()"
   ]
  },
  {
   "cell_type": "code",
   "execution_count": 109,
   "metadata": {},
   "outputs": [
    {
     "name": "stdout",
     "output_type": "stream",
     "text": [
      "The breast cancer dataset has 30 features\n",
      "['mean radius' 'mean texture' 'mean perimeter' 'mean area'\n",
      " 'mean smoothness' 'mean compactness' 'mean concavity'\n",
      " 'mean concave points' 'mean symmetry' 'mean fractal dimension'\n",
      " 'radius error' 'texture error' 'perimeter error' 'area error'\n",
      " 'smoothness error' 'compactness error' 'concavity error'\n",
      " 'concave points error' 'symmetry error' 'fractal dimension error'\n",
      " 'worst radius' 'worst texture' 'worst perimeter' 'worst area'\n",
      " 'worst smoothness' 'worst compactness' 'worst concavity'\n",
      " 'worst concave points' 'worst symmetry' 'worst fractal dimension']\n",
      "The breast cancer dataset has 2 categories\n",
      "['malignant' 'benign']\n"
     ]
    },
    {
     "data": {
      "image/png": "[encoded data removed]",
      "text/plain": [
       "<Figure size 432x288 with 1 Axes>"
      ]
     },
     "metadata": {
      "needs_background": "light"
     },
     "output_type": "display_data"
    }
   ],
   "source": [
    "# visualizing breast cancer data\n",
    "# will be using pandas to organize my data\n",
    "import pandas as pd\n",
    "from sklearn import datasets\n",
    "\n",
    "# import data set\n",
    "breast_cancer = datasets.load_breast_cancer()\n",
    "breast_1_data = np.array(breast_cancer.data)\n",
    "breast_0_labels = np.array(breast_cancer.target)\n",
    "num_features = breast_1_data.data.shape[1]\n",
    "unique_labels = np.unique(breast_0_labels)\n",
    "num_classes = len(unique_labels)\n",
    "\n",
    "# check data, establish context\n",
    "print(\"The breast cancer dataset has \" + str(num_features) + \" features\")\n",
    "print(breast_cancer.feature_names)\n",
    "print(\"The breast cancer dataset has \" + str(num_classes) + \" categories\")\n",
    "print(breast_cancer.target_names)\n",
    "\n",
    "breast_data = pd.DataFrame(breast_1_data)\n",
    "# breast_data.drop(breast_data.columns[[-1, 1:30]], axis=1, inplace=True)\n",
    "\n",
    "breast_data.drop(breast_data.iloc[:, 2:30], inplace = True, axis = 1) \n",
    "breast_data.columns=['mean radius', 'mean texture']\n",
    "\n",
    "x = breast_data['mean radius']\n",
    "y = breast_data['mean texture']\n",
    "\n",
    "# visualize\n",
    "plt.scatter(x, y, s=area, alpha=0.5)\n",
    "plt.title('Stretch goal! Scatter plot of mean radius and mean texture')\n",
    "plt.xlabel('x')\n",
    "plt.ylabel('y')\n",
    "plt.show()"
   ]
  },
  {
   "cell_type": "code",
   "execution_count": null,
   "metadata": {},
   "outputs": [],
   "source": []
  },
  {
   "cell_type": "code",
   "execution_count": null,
   "metadata": {},
   "outputs": [],
   "source": []
  }
 ],
 "metadata": {
  "colab": {
   "collapsed_sections": [],
   "name": "LSDS Intro Assignment 1 - Getting Started with Python.ipynb",
   "provenance": [],
   "version": "0.3.2"
  },
  "kernelspec": {
   "display_name": "Python 3",
   "language": "python",
   "name": "python3"
  },
  "language_info": {
   "codemirror_mode": {
    "name": "ipython",
    "version": 3
   },
   "file_extension": ".py",
   "mimetype": "text/x-python",
   "name": "python",
   "nbconvert_exporter": "python",
   "pygments_lexer": "ipython3",
   "version": "3.6.8"
  }
 },
 "nbformat": 4,
 "nbformat_minor": 1
}
